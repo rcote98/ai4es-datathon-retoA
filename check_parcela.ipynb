{
 "cells": [
  {
   "cell_type": "code",
   "execution_count": 2,
   "metadata": {},
   "outputs": [],
   "source": [
    "import numpy as np\n",
    "import pandas as pd"
   ]
  },
  {
   "cell_type": "code",
   "execution_count": 3,
   "metadata": {},
   "outputs": [],
   "source": [
    "train_df = pd.read_csv(\"csvs/train.csv\")\n",
    "test_df = pd.read_csv(\"csvs/test.csv\")"
   ]
  },
  {
   "cell_type": "code",
   "execution_count": 6,
   "metadata": {},
   "outputs": [
    {
     "data": {
      "text/plain": [
       "'plots/Micasense_Rededge-Dual_ms_reflectance/2021-DE-308/2021-05-06_01_01_001_01_01.tif'"
      ]
     },
     "execution_count": 6,
     "metadata": {},
     "output_type": "execute_result"
    }
   ],
   "source": [
    "test_df[\"PLOT_FILE\"][0]"
   ]
  },
  {
   "cell_type": "code",
   "execution_count": 17,
   "metadata": {},
   "outputs": [],
   "source": [
    "def extract_ZZZ(df):\n",
    "    ZZZ = list()\n",
    "    for file in df[\"PLOT_FILE\"]:\n",
    "        ZZZ.append(int(file.split(\"/\")[3].split(\"_\")[3]))\n",
    "    return set(np.unique(ZZZ))"
   ]
  },
  {
   "cell_type": "code",
   "execution_count": 18,
   "metadata": {},
   "outputs": [],
   "source": [
    "train_ZZZ = extract_ZZZ(train_df)"
   ]
  },
  {
   "cell_type": "code",
   "execution_count": 20,
   "metadata": {},
   "outputs": [],
   "source": [
    "test_ZZZ = extract_ZZZ(test_df)"
   ]
  },
  {
   "cell_type": "code",
   "execution_count": 24,
   "metadata": {},
   "outputs": [
    {
     "name": "stdout",
     "output_type": "stream",
     "text": [
      "True\n"
     ]
    }
   ],
   "source": [
    "all_in = True\n",
    "for element in test_ZZZ:\n",
    "    if not (element in train_ZZZ):\n",
    "        print(element)\n",
    "        all_in = False\n",
    "print(all_in)"
   ]
  },
  {
   "cell_type": "code",
   "execution_count": 25,
   "metadata": {},
   "outputs": [
    {
     "name": "stdout",
     "output_type": "stream",
     "text": [
      "Train parcelas: 138\n",
      "Test parcelas: 72\n"
     ]
    }
   ],
   "source": [
    "print(\"Train parcelas: %s\"%len(train_ZZZ))\n",
    "print(\"Test parcelas: %s\"%len(test_ZZZ))"
   ]
  },
  {
   "cell_type": "code",
   "execution_count": null,
   "metadata": {},
   "outputs": [],
   "source": []
  }
 ],
 "metadata": {
  "kernelspec": {
   "display_name": "ai4es_env",
   "language": "python",
   "name": "python3"
  },
  "language_info": {
   "codemirror_mode": {
    "name": "ipython",
    "version": 3
   },
   "file_extension": ".py",
   "mimetype": "text/x-python",
   "name": "python",
   "nbconvert_exporter": "python",
   "pygments_lexer": "ipython3",
   "version": "3.9.10"
  },
  "orig_nbformat": 4,
  "vscode": {
   "interpreter": {
    "hash": "c6b367f4345069623e74acb77c3621449343ee120ee65d32ffc49be0e02bf3f9"
   }
  }
 },
 "nbformat": 4,
 "nbformat_minor": 2
}
